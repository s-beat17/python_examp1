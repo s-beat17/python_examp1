{
  "nbformat": 4,
  "nbformat_minor": 0,
  "metadata": {
    "colab": {
      "name": "homework1.ipynb",
      "provenance": [],
      "collapsed_sections": [],
      "authorship_tag": "ABX9TyMNzxpvowrQCOjz4/j51YEn",
      "include_colab_link": true
    },
    "kernelspec": {
      "name": "python3",
      "display_name": "Python 3"
    },
    "language_info": {
      "name": "python"
    }
  },
  "cells": [
    {
      "cell_type": "markdown",
      "metadata": {
        "id": "view-in-github",
        "colab_type": "text"
      },
      "source": [
        "<a href=\"https://colab.research.google.com/github/s-beat17/python_examp1/blob/main/homework1.ipynb\" target=\"_parent\"><img src=\"https://colab.research.google.com/assets/colab-badge.svg\" alt=\"Open In Colab\"/></a>"
      ]
    },
    {
      "cell_type": "code",
      "metadata": {
        "id": "EWNhkIKN_-kJ",
        "colab": {
          "base_uri": "https://localhost:8080/"
        },
        "outputId": "0c1520a0-eeaf-4346-b976-69355871f7af"
      },
      "source": [
        "d = 2/7\n",
        "d\n"
      ],
      "execution_count": null,
      "outputs": [
        {
          "output_type": "execute_result",
          "data": {
            "text/plain": [
              "0.2857142857142857"
            ]
          },
          "metadata": {},
          "execution_count": 7
        }
      ]
    },
    {
      "cell_type": "code",
      "metadata": {
        "colab": {
          "base_uri": "https://localhost:8080/"
        },
        "id": "R0khkRSEFQS1",
        "outputId": "c82aebe4-8e93-4aa9-cac4-4b9e4264ce58"
      },
      "source": [
        "F = 10000\n",
        "r = 0.0425\n",
        "n = 10\n",
        "P = F/((1 + r) ** n)\n",
        "round(P, 2)"
      ],
      "execution_count": null,
      "outputs": [
        {
          "output_type": "execute_result",
          "data": {
            "text/plain": [
              "6595.37"
            ]
          },
          "metadata": {},
          "execution_count": 35
        }
      ]
    },
    {
      "cell_type": "code",
      "metadata": {
        "colab": {
          "base_uri": "https://localhost:8080/"
        },
        "id": "gtvL5DlXIGy9",
        "outputId": "12bc0407-9880-45ac-9633-0b940c62e500"
      },
      "source": [
        "round(7.4654, 3)"
      ],
      "execution_count": null,
      "outputs": [
        {
          "output_type": "execute_result",
          "data": {
            "text/plain": [
              "7.465"
            ]
          },
          "metadata": {},
          "execution_count": 13
        }
      ]
    },
    {
      "cell_type": "code",
      "metadata": {
        "colab": {
          "base_uri": "https://localhost:8080/"
        },
        "id": "hyEaPysjLVrv",
        "outputId": "b00442b7-f880-4fe8-97ed-e89184b19bcf"
      },
      "source": [
        "abs(-6.8)"
      ],
      "execution_count": null,
      "outputs": [
        {
          "output_type": "execute_result",
          "data": {
            "text/plain": [
              "6.8"
            ]
          },
          "metadata": {},
          "execution_count": 14
        }
      ]
    },
    {
      "cell_type": "code",
      "metadata": {
        "colab": {
          "base_uri": "https://localhost:8080/"
        },
        "id": "a2Yufs9gLeCt",
        "outputId": "b7f37ac9-0a75-40bd-8e64-6088c2691b8c"
      },
      "source": [
        "pow(12, 23, 5)"
      ],
      "execution_count": null,
      "outputs": [
        {
          "output_type": "execute_result",
          "data": {
            "text/plain": [
              "3"
            ]
          },
          "metadata": {},
          "execution_count": 20
        }
      ]
    },
    {
      "cell_type": "code",
      "metadata": {
        "colab": {
          "base_uri": "https://localhost:8080/"
        },
        "id": "Dnu-3k6VLinw",
        "outputId": "7f0abe96-f9df-40ed-a1b2-b5f6df785513"
      },
      "source": [
        "len(\"Vitaliy\" * 10)"
      ],
      "execution_count": null,
      "outputs": [
        {
          "output_type": "execute_result",
          "data": {
            "text/plain": [
              "70"
            ]
          },
          "metadata": {},
          "execution_count": 25
        }
      ]
    },
    {
      "cell_type": "code",
      "metadata": {
        "colab": {
          "base_uri": "https://localhost:8080/",
          "height": 35
        },
        "id": "PSrxYwErMg8T",
        "outputId": "6db4199c-6f6a-419a-b345-be7b47394db9"
      },
      "source": [
        "first_name = \"Vitaliy\"\n",
        "second_name = \"Pinashin\"\n",
        "new_str = first_name + \" \" + second_name\n",
        "new_str"
      ],
      "execution_count": null,
      "outputs": [
        {
          "output_type": "execute_result",
          "data": {
            "application/vnd.google.colaboratory.intrinsic+json": {
              "type": "string"
            },
            "text/plain": [
              "'Vitaliy Pinashin'"
            ]
          },
          "metadata": {},
          "execution_count": 29
        }
      ]
    },
    {
      "cell_type": "code",
      "metadata": {
        "colab": {
          "base_uri": "https://localhost:8080/",
          "height": 35
        },
        "id": "6XCtVDk1NqDM",
        "outputId": "d53264be-ef6e-49c4-8799-4bfa817bcf67"
      },
      "source": [
        "new_str[1:-1]\n",
        "new_str[-1:] + new_str[1:-1] + new_str[:1]\n"
      ],
      "execution_count": null,
      "outputs": [
        {
          "output_type": "execute_result",
          "data": {
            "application/vnd.google.colaboratory.intrinsic+json": {
              "type": "string"
            },
            "text/plain": [
              "'nitaliy PinashiV'"
            ]
          },
          "metadata": {},
          "execution_count": 31
        }
      ]
    },
    {
      "cell_type": "code",
      "metadata": {
        "colab": {
          "base_uri": "https://localhost:8080/"
        },
        "id": "9C7Dr3eHOVfy",
        "outputId": "8efe5340-e31d-4ad8-e620-09b058660f24"
      },
      "source": [
        "age = int(input(\"Enter age: \"))\n",
        "new_age = age + 1\n",
        "print(new_age)"
      ],
      "execution_count": null,
      "outputs": [
        {
          "output_type": "stream",
          "name": "stdout",
          "text": [
            "Enter age: 10\n",
            "11\n"
          ]
        }
      ]
    },
    {
      "cell_type": "code",
      "metadata": {
        "colab": {
          "base_uri": "https://localhost:8080/",
          "height": 70
        },
        "id": "ojomyVLAP-lc",
        "outputId": "7a904ea3-0e2c-453c-a4cc-6391524540ba"
      },
      "source": [
        "height = float(input(\"Enter height(m): \"))\n",
        "weight = int(input(\"Enter weight(kg): \"))\n",
        "BMI = weight / height ** 2\n",
        "f\"Индекс массы тела: {BMI}\""
      ],
      "execution_count": null,
      "outputs": [
        {
          "name": "stdout",
          "output_type": "stream",
          "text": [
            "Enter height(m): 1.81\n",
            "Enter weight(kg): 85\n"
          ]
        },
        {
          "output_type": "execute_result",
          "data": {
            "application/vnd.google.colaboratory.intrinsic+json": {
              "type": "string"
            },
            "text/plain": [
              "'Индекс массы тела: 25.94548395958609'"
            ]
          },
          "metadata": {},
          "execution_count": 47
        }
      ]
    },
    {
      "cell_type": "code",
      "metadata": {
        "colab": {
          "base_uri": "https://localhost:8080/"
        },
        "id": "5nWSsjo6RnDG",
        "outputId": "cbde32c1-7c5b-4f49-9da0-bcd2a5530dae"
      },
      "source": [
        "length = float(input(\"Enter length (m): \"))\n",
        "width = float(input(\"Enter width (m): \"))\n",
        "square = length * width\n",
        "print(square)"
      ],
      "execution_count": null,
      "outputs": [
        {
          "output_type": "stream",
          "name": "stdout",
          "text": [
            "Enter length (m): 4.53\n",
            "Enter width (m): 3.59\n",
            "16.2627\n"
          ]
        }
      ]
    },
    {
      "cell_type": "code",
      "metadata": {
        "colab": {
          "base_uri": "https://localhost:8080/",
          "height": 53
        },
        "id": "eHVN8ZuQV_gg",
        "outputId": "37b13dc4-a181-40e5-8891-9916c76457dd"
      },
      "source": [
        "T0 = 273.15\n",
        "C = int(input(\"Enter temperature(C): \"))\n",
        "F = (C * 9/5) + 32\n",
        "K = C + T0\n",
        "f'В градусах Фаренгейта {F} и Кельвина {K}'"
      ],
      "execution_count": null,
      "outputs": [
        {
          "name": "stdout",
          "output_type": "stream",
          "text": [
            "Enter temperature(C): 23\n"
          ]
        },
        {
          "output_type": "execute_result",
          "data": {
            "application/vnd.google.colaboratory.intrinsic+json": {
              "type": "string"
            },
            "text/plain": [
              "'В градусах Фаренгейта 73.4 и Кельвина 296.15'"
            ]
          },
          "metadata": {},
          "execution_count": 50
        }
      ]
    },
    {
      "cell_type": "code",
      "metadata": {
        "colab": {
          "base_uri": "https://localhost:8080/",
          "height": 70
        },
        "id": "3dgTrzJoXkKb",
        "outputId": "ccf8c7d3-1a58-40d4-8a76-071888e5faf1"
      },
      "source": [
        "a = int(input(\"Enter a: \"))\n",
        "b = int(input(\"Enter b: \"))\n",
        "f'{a} в степени {b} равно {pow(a, b)}, {b} в степени {a} равно {pow(b, a)}'"
      ],
      "execution_count": null,
      "outputs": [
        {
          "name": "stdout",
          "output_type": "stream",
          "text": [
            "Enter a: 2\n",
            "Enter b: 3\n"
          ]
        },
        {
          "output_type": "execute_result",
          "data": {
            "application/vnd.google.colaboratory.intrinsic+json": {
              "type": "string"
            },
            "text/plain": [
              "'2 в степени 3 равно 8, 3 в степени 2 равно 9'"
            ]
          },
          "metadata": {},
          "execution_count": 51
        }
      ]
    },
    {
      "cell_type": "code",
      "metadata": {
        "colab": {
          "base_uri": "https://localhost:8080/",
          "height": 70
        },
        "id": "pRQE9WPBYkPy",
        "outputId": "21ebca37-f1e2-4218-fa1e-c43661899e46"
      },
      "source": [
        "first_name = (input(\"Enter firstname: \"))\n",
        "second_name = (input(\"Enter secondname: \"))\n",
        "f'Hello {first_name} {second_name}'"
      ],
      "execution_count": null,
      "outputs": [
        {
          "name": "stdout",
          "output_type": "stream",
          "text": [
            "Enter firstname: wddds\n",
            "Enter secondname: йцуйцу\n"
          ]
        },
        {
          "output_type": "execute_result",
          "data": {
            "application/vnd.google.colaboratory.intrinsic+json": {
              "type": "string"
            },
            "text/plain": [
              "'Hello wddds йцуйцу'"
            ]
          },
          "metadata": {},
          "execution_count": 52
        }
      ]
    },
    {
      "cell_type": "code",
      "metadata": {
        "colab": {
          "base_uri": "https://localhost:8080/",
          "height": 70
        },
        "id": "lzmfdZMzZI5C",
        "outputId": "0d08c1a7-d8a3-4d32-aa98-b696eb5383d1"
      },
      "source": [
        "numb1 = int(input(\"Enter number 1: \"))\n",
        "numb2 = int(input(\"Enter number 2: \"))\n",
        "f'The total is {numb1 + numb2}'"
      ],
      "execution_count": null,
      "outputs": [
        {
          "name": "stdout",
          "output_type": "stream",
          "text": [
            "Enter number 1: 1\n",
            "Enter number 2: 2\n"
          ]
        },
        {
          "output_type": "execute_result",
          "data": {
            "application/vnd.google.colaboratory.intrinsic+json": {
              "type": "string"
            },
            "text/plain": [
              "'The total is 3'"
            ]
          },
          "metadata": {},
          "execution_count": 53
        }
      ]
    },
    {
      "cell_type": "code",
      "metadata": {
        "colab": {
          "base_uri": "https://localhost:8080/",
          "height": 88
        },
        "id": "Kv4G8NnSZcMK",
        "outputId": "0c9cde9e-bbdb-4083-9feb-81de115d9feb"
      },
      "source": [
        "numb1 = int(input(\"Enter number 1: \"))\n",
        "numb2 = int(input(\"Enter number 2: \"))\n",
        "numb3 = int(input(\"Enter number 3: \"))\n",
        "f'The answer is {(numb1 + numb2) * numb3}'"
      ],
      "execution_count": null,
      "outputs": [
        {
          "name": "stdout",
          "output_type": "stream",
          "text": [
            "Enter number 1: 1\n",
            "Enter number 2: 2\n",
            "Enter number 3: 3\n"
          ]
        },
        {
          "output_type": "execute_result",
          "data": {
            "application/vnd.google.colaboratory.intrinsic+json": {
              "type": "string"
            },
            "text/plain": [
              "'The answer is 9'"
            ]
          },
          "metadata": {},
          "execution_count": 54
        }
      ]
    },
    {
      "cell_type": "code",
      "metadata": {
        "colab": {
          "base_uri": "https://localhost:8080/"
        },
        "id": "s2pS9bWjZsL3",
        "outputId": "d7947d2b-ec05-456e-e8ca-f5f4c171547c"
      },
      "source": [
        "name = (input(\"Enter name: \"))\n",
        "gender = (input(\"Enter gender: \"))\n",
        "age = int(input(\"Enter age: \"))\n",
        "city = (input(\"Enter city: \"))\n",
        "print('{:^50}'.format(f'This is {name}'))\n",
        "print('{:^50}'.format(f'{gender} is {age} years old.'))\n",
        "print('{:^50}'.format(f'{gender} lives in {city}'))"
      ],
      "execution_count": null,
      "outputs": [
        {
          "output_type": "stream",
          "name": "stdout",
          "text": [
            "Enter name: NNN\n",
            "Enter gender: He\n",
            "Enter age: 33\n",
            "Enter city: NewYork\n",
            "                   This is NNN                    \n",
            "               He is 33 years old.                \n",
            "               He lives in NewYork                \n"
          ]
        }
      ]
    },
    {
      "cell_type": "code",
      "metadata": {
        "colab": {
          "base_uri": "https://localhost:8080/"
        },
        "id": "ryqWFszvahYf",
        "outputId": "156bb9b9-3dd9-475c-e678-ffc04465399e"
      },
      "source": [
        "city = int(input(\"Enter number cod city: \"))\n",
        "minute = int(input(\"Enter minute: \"))\n",
        "if city == 343:\n",
        "  price = 15 * minute\n",
        "  print(\"Екатеринбург\")\n",
        "  print(\"Цена: \", price)\n",
        "if city == 381:\n",
        "  price = 18 * minute\n",
        "  print(\"Омск\")\n",
        "  print(\"Цена: \", price)\n",
        "if city == 473:\n",
        "  price = 13 * minute\n",
        "  print(\"Воронеж\")\n",
        "  print(\"Цена: \", price)\n"
      ],
      "execution_count": null,
      "outputs": [
        {
          "output_type": "stream",
          "name": "stdout",
          "text": [
            "Enter number cod city: 343\n",
            "Enter minute: 5\n",
            "Екатеринбург\n",
            "Цена:  75\n"
          ]
        }
      ]
    },
    {
      "cell_type": "code",
      "metadata": {
        "colab": {
          "base_uri": "https://localhost:8080/"
        },
        "id": "R-0E7VTzdfEB",
        "outputId": "93ed118d-f8a6-4568-eeea-3236b0351182"
      },
      "source": [
        "word = (input(\"Enter word: \"))\n",
        "if word == word[::-1]:\n",
        "  print('Yes')\n",
        "else:\n",
        "  print('No')"
      ],
      "execution_count": null,
      "outputs": [
        {
          "output_type": "stream",
          "name": "stdout",
          "text": [
            "Enter word: 123456\n",
            "No\n"
          ]
        }
      ]
    },
    {
      "cell_type": "code",
      "metadata": {
        "colab": {
          "base_uri": "https://localhost:8080/"
        },
        "id": "WbdYac0ohufd",
        "outputId": "18874628-33c8-4689-8f96-2383c7cd698a"
      },
      "source": [
        "height = float(input(\"Enter height(m): \"))\n",
        "weight = int(input(\"Enter weight(kg): \"))\n",
        "BMI = weight / height ** 2\n",
        "if BMI <= 16:\n",
        "  print('Выраженный дефецит массы тела')\n",
        "elif 16 < BMI <= 18.5:\n",
        "  print('Недостаточная масса тела')\n",
        "elif BMI > 18.5 and BMI <= 24:\n",
        "  print('Нормальная масса тела')\n",
        "elif BMI >=25 and BMI <= 30:\n",
        "  print('Избыточная масса тела(предожирение)')\n",
        "elif BMI >=30 and BMI <= 35:\n",
        "  print('Ожирение I степени')\n",
        "elif BMI >=35 and BMI <= 40:\n",
        "  print('Ожирение II степени')\n",
        "else:\n",
        "  print('Ожирение III степени')"
      ],
      "execution_count": null,
      "outputs": [
        {
          "output_type": "stream",
          "name": "stdout",
          "text": [
            "Enter height(m): 1\n",
            "Enter weight(kg): 120\n",
            "Ожирение III степени\n"
          ]
        }
      ]
    },
    {
      "cell_type": "code",
      "metadata": {
        "colab": {
          "base_uri": "https://localhost:8080/"
        },
        "id": "nfG8w6ndiMVB",
        "outputId": "2dc4936e-bc17-4ada-b6e6-2142621f2fd2"
      },
      "source": [
        "color = input(\"Enter favorite color: \")\n",
        "lc = color.lower()\n",
        "if lc == 'red':\n",
        "  print('I like red too')\n",
        "else:\n",
        "  print('I don’t like' ,lc, 'I prefer red')"
      ],
      "execution_count": null,
      "outputs": [
        {
          "output_type": "stream",
          "name": "stdout",
          "text": [
            "Enter favorite color: a\n",
            "I don’t like a I prefer red\n"
          ]
        }
      ]
    },
    {
      "cell_type": "code",
      "metadata": {
        "colab": {
          "base_uri": "https://localhost:8080/"
        },
        "id": "Ah2ErTj_k0KM",
        "outputId": "17c412e9-fec0-490d-ed8d-d77462bc11b4"
      },
      "source": [
        "age = int(input(\"Enter age: \"))\n",
        "if age >= 18:\n",
        "  print('You can vote')\n",
        "elif age == 17:\n",
        "  print('You can learn to drive')\n",
        "elif age == 16:\n",
        "  print('You can buy a lottery ticket')\n",
        "else:\n",
        "  print('You can go Trick-or-Treating')"
      ],
      "execution_count": null,
      "outputs": [
        {
          "output_type": "stream",
          "name": "stdout",
          "text": [
            "Enter age: 17\n",
            "You can learn to drive\n"
          ]
        }
      ]
    },
    {
      "cell_type": "code",
      "metadata": {
        "colab": {
          "base_uri": "https://localhost:8080/"
        },
        "id": "dpzIex3-oDmv",
        "outputId": "a656ac86-cc0d-435b-f816-0face9be2cd7"
      },
      "source": [
        "number = int(input(\"Enter number: \"))\n",
        "if number < 10:\n",
        "  print('Too low')\n",
        "elif number >= 10 and number <= 20:\n",
        "  print('«Correct»')\n",
        "else:\n",
        "  print('Too high')"
      ],
      "execution_count": null,
      "outputs": [
        {
          "output_type": "stream",
          "name": "stdout",
          "text": [
            "Enter number: 15\n",
            "«Correct»\n"
          ]
        }
      ]
    },
    {
      "cell_type": "code",
      "metadata": {
        "colab": {
          "base_uri": "https://localhost:8080/"
        },
        "id": "W5GAm0PjpG5I",
        "outputId": "b0fc9870-1b0b-4590-843c-d3fc9bd30323"
      },
      "source": [
        "number = int(input(\"Enter number 1 or 2 or 3: \"))\n",
        "if number == 1:\n",
        "  print('Thank you')\n",
        "elif number == 2:\n",
        "  print('Well done')\n",
        "elif number == 3:\n",
        "  print('Correct')\n",
        "else:\n",
        "  print('Error message')"
      ],
      "execution_count": null,
      "outputs": [
        {
          "output_type": "stream",
          "name": "stdout",
          "text": [
            "Enter number 1 or 2 or 3: 1\n",
            "Thank you\n"
          ]
        }
      ]
    },
    {
      "cell_type": "code",
      "metadata": {
        "colab": {
          "base_uri": "https://localhost:8080/"
        },
        "id": "yR-0hO89qAZi",
        "outputId": "6d78a201-ada9-41d2-b28c-20fd78c46bad"
      },
      "source": [
        "s = \"У лукоморья 123 дуб зеленый 456\"\n",
        "if s.count('я') > 0:\n",
        "  print(s.find('я'))\n",
        "print(s.count('у'))\n",
        "if not s.isalpha():\n",
        "  print(s.upper())\n",
        "if len(s) > 4:    \n",
        "  print(s.lower())\n",
        "print('O'+ s[1:])"
      ],
      "execution_count": null,
      "outputs": [
        {
          "output_type": "stream",
          "name": "stdout",
          "text": [
            "10\n",
            "2\n",
            "У ЛУКОМОРЬЯ 123 ДУБ ЗЕЛЕНЫЙ 456\n",
            "у лукоморья 123 дуб зеленый 456\n",
            "O лукоморья 123 дуб зеленый 456\n"
          ]
        }
      ]
    },
    {
      "cell_type": "code",
      "metadata": {
        "colab": {
          "base_uri": "https://localhost:8080/",
          "height": 105
        },
        "id": "CXKEOIMIqMrG",
        "outputId": "76fd03ab-8dee-438d-81e1-7035df6bd0fd"
      },
      "source": [
        "stroka = input(\"Введите строку из стихотворения: \")\n",
        "print(len(stroka))\n",
        "start = int(input(\"Enter start: \"))\n",
        "finish = int(input(\"Enter finish: \"))\n",
        "stroka[start:finish]\n"
      ],
      "execution_count": null,
      "outputs": [
        {
          "name": "stdout",
          "output_type": "stream",
          "text": [
            "Введите строку из стихотворения: dfsaf asdf fsd\n",
            "14\n",
            "Enter start: 2\n",
            "Enter finish: 7\n"
          ]
        },
        {
          "output_type": "execute_result",
          "data": {
            "application/vnd.google.colaboratory.intrinsic+json": {
              "type": "string"
            },
            "text/plain": [
              "'saf a'"
            ]
          },
          "metadata": {},
          "execution_count": 92
        }
      ]
    },
    {
      "cell_type": "code",
      "metadata": {
        "colab": {
          "base_uri": "https://localhost:8080/"
        },
        "id": "wuEq9qtCswZ2",
        "outputId": "4d59c031-1044-45bf-d208-62b1ead23b44"
      },
      "source": [
        "number = 123456\n",
        "str_number = map(int, str(number))\n",
        "el = list(str_number)\n",
        "if el[0] + el[1] + el[2] == el[3] + el[4] + el[5]:\n",
        "  print(\"Счастливый билет\")\n",
        "else:\n",
        "  print(\"Несчастливый билет\")"
      ],
      "execution_count": null,
      "outputs": [
        {
          "output_type": "stream",
          "name": "stdout",
          "text": [
            "Несчастливый билет\n"
          ]
        }
      ]
    },
    {
      "cell_type": "code",
      "metadata": {
        "colab": {
          "base_uri": "https://localhost:8080/"
        },
        "id": "bBPSpEQf1V6d",
        "outputId": "5e04f011-7598-4990-cb1d-263db04b9c1c"
      },
      "source": [
        "import math\n",
        "figure = input(\"Введите тип фигуры: \")\n",
        "if figure == 'Круг':\n",
        "  radius = int(input(\"Введите радиус круга: \"))\n",
        "  S = math.pi * radius ** 2\n",
        "  print('Площадь круга: ', + round(S, 2))\n",
        "elif figure == 'Треугольник':\n",
        "  a = int(input(\"Введите длину стороны A: \"))\n",
        "  b = int(input(\"Введите длину стороны B: \"))\n",
        "  c = int(input(\"Введите длину стороны C: \"))\n",
        "  p = (a + b + c) / 2\n",
        "  S = math.sqrt(p * (p - a) * (p - b) * (p - c))\n",
        "  print('Площадь треугольника: ', + round(S, 2))\n",
        "elif figure == 'Прямоугольник':\n",
        "  a = int(input(\"Введите длину стороны A: \"))\n",
        "  b = int(input(\"Введите длину стороны B: \"))\n",
        "  S = a * b\n",
        "  print('Площадь прямоугольника: ', + round(S, 2))"
      ],
      "execution_count": null,
      "outputs": [
        {
          "output_type": "stream",
          "name": "stdout",
          "text": [
            "Введите тип фигуры: Треугольник\n",
            "Введите длину стороны A: 2\n",
            "Введите длину стороны B: 2\n",
            "Введите длину стороны C: 3\n",
            "Площадь треугольника:  1.98\n"
          ]
        }
      ]
    },
    {
      "cell_type": "code",
      "metadata": {
        "colab": {
          "base_uri": "https://localhost:8080/"
        },
        "id": "GUeqJA_c5XI5",
        "outputId": "54d2b2dd-3768-453b-a320-740461291a54"
      },
      "source": [
        "move = input(\"Выбрать фильм: \")\n",
        "data = input(\"Выбрать день (сегодня, завтра): \")\n",
        "m_time = input(\"Выбрать время: \")\n",
        "ticket_count = int(input(\"Выбрать количество билетов: \"))\n",
        "if move == 'Паразиты':\n",
        "  if data == 'сегодня':\n",
        "    ddiscount = 0\n",
        "  elif data == 'завтра':\n",
        "    ddiscount = 0.05\n",
        "  if m_time == '12':\n",
        "    ticket_price = 250\n",
        "  elif m_time == '16':\n",
        "    ticket_price = 350\n",
        "  elif m_time == '20':\n",
        "    ticket_price = 450\n",
        "  if ticket_count < 5:\n",
        "    tdiscount = 0\n",
        "  elif ticket_count > 5:\n",
        "    tdiscount = 0.1\n",
        "  print(f'Выбрали фильм: {move} День: {data} Время: {m_time} Количество билетов: {ticket_count}')\n",
        "  print(f'Результат: {(ticket_price - ((ticket_price * ddiscount) + (ticket_price * tdiscount))) * ticket_count}')\n",
        "#\n",
        "elif move == '1917':\n",
        "  if data == 'сегодня':\n",
        "    ddiscount = 0\n",
        "  elif data == 'завтра':\n",
        "    ddiscount = 0.05\n",
        "  if m_time == '10':\n",
        "    ticket_price = 250\n",
        "  elif m_time == '13':\n",
        "    ticket_price = 350\n",
        "  elif m_time == '16':\n",
        "    ticket_price = 350\n",
        "  if ticket_count < 5:\n",
        "    tdiscount = 0\n",
        "  elif ticket_count > 5:\n",
        "    tdiscount = 0.1\n",
        "  print(f'Выбрали фильм: {move} День: {data} Время: {m_time} Количество билетов: {ticket_count}')\n",
        "  print(f'Результат: {(ticket_price - ((ticket_price * ddiscount) + (ticket_price * tdiscount))) * ticket_count}')\n",
        "#\n",
        "elif move == 'Соник в кино':\n",
        "  if data == 'сегодня':\n",
        "    ddiscount = 0\n",
        "  elif data == 'завтра':\n",
        "    ddiscount = 0.05\n",
        "  if m_time == '10':\n",
        "    ticket_price = 350\n",
        "  elif m_time == '14':\n",
        "    ticket_price = 450\n",
        "  elif m_time == '18':\n",
        "    ticket_price = 450\n",
        "  if ticket_count < 5:\n",
        "    tdiscount = 0\n",
        "  elif ticket_count > 5:\n",
        "    tdiscount = 0.1\n",
        "  print(f'Выбрали фильм: {move} День: {data} Время: {m_time} Количество билетов: {ticket_count}')\n",
        "  print(f'Результат: {(ticket_price - ((ticket_price * ddiscount) + (ticket_price * tdiscount))) * ticket_count}')\n",
        "else:\n",
        "  print(f'Ошибка ввода')"
      ],
      "execution_count": 8,
      "outputs": [
        {
          "output_type": "stream",
          "name": "stdout",
          "text": [
            "Выбрать фильм: Соник в кино\n",
            "Выбрать день (сегодня, завтра): сегодня\n",
            "Выбрать время: 10\n",
            "Выбрать количество билетов: 6\n",
            "350\n",
            "Выбрали фильм: Соник в кино День: сегодня Время: 10 Количество билетов: 6\n",
            "Результат: 1890.0\n"
          ]
        }
      ]
    },
    {
      "cell_type": "code",
      "metadata": {
        "id": "WZm_BgvWYo52"
      },
      "source": [
        ""
      ],
      "execution_count": null,
      "outputs": []
    }
  ]
}