{
  "nbformat": 4,
  "nbformat_minor": 0,
  "metadata": {
    "colab": {
      "name": "Python.ipynb",
      "provenance": [],
      "collapsed_sections": [],
      "authorship_tag": "ABX9TyPrc1B4x0+1VjEk94Twt3b7",
      "include_colab_link": true
    },
    "kernelspec": {
      "name": "python3",
      "display_name": "Python 3"
    },
    "language_info": {
      "name": "python"
    }
  },
  "cells": [
    {
      "cell_type": "markdown",
      "metadata": {
        "id": "view-in-github",
        "colab_type": "text"
      },
      "source": [
        "<a href=\"https://colab.research.google.com/github/s-beat17/python_examp1/blob/main/Python.ipynb\" target=\"_parent\"><img src=\"https://colab.research.google.com/assets/colab-badge.svg\" alt=\"Open In Colab\"/></a>"
      ]
    },
    {
      "cell_type": "code",
      "metadata": {
        "colab": {
          "base_uri": "https://localhost:8080/"
        },
        "id": "00iNWpLDRyip",
        "outputId": "5e802920-e897-457e-a476-8a6d693646d0"
      },
      "source": [
        "name = input(\"Entered name: \")\n",
        "gender = input(\"Entered gender(male/female): \")\n",
        "age = input(\"Entered age: \")\n",
        "city = input(\"Entered city: \")\n",
        "if (gender == \"male\"):\n",
        "  print(f'This is {name}.\\nHe is {age} years old.\\nHe lives in {city}.')\n",
        "else:\n",
        "  print(f'This is {name}.\\nShe is {age} years old.\\nShe lives in {city}.')"
      ],
      "execution_count": null,
      "outputs": [
        {
          "output_type": "stream",
          "name": "stdout",
          "text": [
            "Entered name: Alexa\n",
            "Entered gender(male / female): female\n",
            "Entered age: 13\n",
            "Entered city: London\n",
            "This is Alexa.\n",
            "She is 13 years old.\n",
            "She lives in London.\n"
          ]
        }
      ]
    },
    {
      "cell_type": "code",
      "metadata": {
        "colab": {
          "base_uri": "https://localhost:8080/"
        },
        "id": "pnbmOMPxTSA5",
        "outputId": "9fc1f5c6-bcbf-4d1e-a5ba-9ed0928efd5d"
      },
      "source": [
        "summ = 0\n",
        "list_01 = [1, 1, 2, 3, 5, 8, 13, 21, 34, 55, 89, 144, 233, 377, 610, 14, 46, 273, 22, 99, 15, 1000]\n",
        "for element in list_01:\n",
        "  if (element > 10 and element < 100 or element > 200 and element < 500):\n",
        "    summ = summ + element\n",
        "print(f'Сумма элементов списка удовлетворяющих условию равна = {summ}')"
      ],
      "execution_count": null,
      "outputs": [
        {
          "output_type": "stream",
          "name": "stdout",
          "text": [
            "Сумма элементов списка удовлетворяющих условию равна = 1291\n"
          ]
        }
      ]
    },
    {
      "cell_type": "code",
      "metadata": {
        "colab": {
          "base_uri": "https://localhost:8080/"
        },
        "id": "ljrc68GEpAMP",
        "outputId": "8329859e-edb8-4432-a7f4-9b9f4d8c8646"
      },
      "source": [
        "def func(*args):\n",
        "  sred = sum(args) / len(args)\n",
        "  l = [i for i in args if i < sred]\n",
        "  return print(f'среднее арифметическое = {sred},\\nсписок элементов удовлетворяющих условию {l}')\n",
        "\n",
        "func(1, 2, 3, 4, 99, 5, 25, 44, 67, 2, 9, 11, 51, 15, 10, 33)"
      ],
      "execution_count": null,
      "outputs": [
        {
          "output_type": "stream",
          "name": "stdout",
          "text": [
            "среднее арифметическое = 23.8125,\n",
            "список элементов удовлетворяющих условию [1, 2, 3, 4, 5, 2, 9, 11, 15, 10]\n"
          ]
        }
      ]
    },
    {
      "cell_type": "markdown",
      "source": [
        "Вам дан словарь с именами студентов и их оценками за курс по десятибаллной шкале. Напишите программу, которая бы считала среднюю оценку за курс и округляла ее (используйте функцию round()). Чтобы найти среднюю оценку нужно сложить оценки всех студентов за курс и разделить сумму на количество студентов. Найти сумму элементов списка, можно функцией sum(). Так, первый курс - это нулевой элемент списка оценок каждого студента.\n",
        "Программа должна приниматься на ввод номер курса (от 1 до 8, обратите внимание, что не от 0 до 7), а выводить среднюю оценку за этот курс.\n",
        "После ввода курса необходимо запросить у пользователя имя студента, вывести оценку студента и указать, выше или ниже среднего значения за курс эта оценка."
      ],
      "metadata": {
        "id": "ivUSWefXCHSx"
      }
    },
    {
      "cell_type": "code",
      "source": [
        "marks = {'Mary' : [5, 8, 9, 10, 3, 5, 6, 6],\n",
        "        'John' : [3, 3, 6, 8, 2, 1, 8, 5],\n",
        "        'Alex' : [4, 4, 7, 4, 7, 3, 2, 9],\n",
        "        'Patricia' : [2, 1, 6, 8, 2, 3, 7, 4]}\n",
        "\n",
        "x = int(input('Введите номер курса : '))\n",
        "x -= 1\n",
        "course_list = []\n",
        "for student in marks:\n",
        "  course_list.append(marks[student][x])\n",
        "\n",
        "res = (round(sum(course_list)/len(course_list)))\n",
        "print(f'Курс {x+1} - {res}')\n",
        "\n",
        "name1 = input('Введите имя студента: ')\n",
        "for person in marks.items():\n",
        "  if person[0] == name1:\n",
        "    res1 = round(sum(marks[name1][1::]) / len(marks[name1][1::]),2)\n",
        "    if (res1 > res):\n",
        "      print(f'средняя оценка у студента {name1} выше, чем за {x+1} курс')\n",
        "    else:\n",
        "      print(f'средняя оценка у студента {name1} ниже, чем за {x+1} курс')"
      ],
      "metadata": {
        "colab": {
          "base_uri": "https://localhost:8080/"
        },
        "id": "lN-Ei9uM5Wm_",
        "outputId": "43807423-b2a1-4b65-d8ee-712d133f3765"
      },
      "execution_count": null,
      "outputs": [
        {
          "output_type": "stream",
          "name": "stdout",
          "text": [
            "Введите номер курса : 4\n",
            "Курс 4 - 8\n",
            "Введите имя студента: Alex\n",
            "средняя оценка у студента Alex ниже, чем за 4 курс\n"
          ]
        }
      ]
    },
    {
      "cell_type": "code",
      "source": [
        "import random\n",
        "from random import randint\n",
        "\n",
        "print(f'Выберите из двух вариантов')\n",
        "print(f'1) Addition 2) Subtraction')\n",
        "num = int(input('Enter 1 or 2: '))\n",
        "if num == 1:\n",
        "  list_1 = [num for num in range(5,20)]\n",
        "  r = random.choices(list_1, k=2)\n",
        "  result = int(input(f'Сложите два числа {r} = '))\n",
        "  if result == sum(r):\n",
        "    print(f'Correct')\n",
        "  else:\n",
        "    print(f'Incorrect, the answer is {sum(r)}')\n",
        "elif num == 2:\n",
        "  list_1 = [num for num in range(25,50)]\n",
        "  list_2 = [num for num in range(1,25)]\n",
        "  num_1 = random.choice(list_1)\n",
        "  num_2 = random.choice(list_2)\n",
        "  result = int(input(f'Вычесть {num_1} - {num_2} = '))\n",
        "  if result == (num_1 - num_2):\n",
        "    print(f'Correct')\n",
        "  else:\n",
        "    print(f'Incorrect, the answer is {num_1 - num_2}')"
      ],
      "metadata": {
        "colab": {
          "base_uri": "https://localhost:8080/"
        },
        "id": "EIJhh3L85XEx",
        "outputId": "33cba8f8-0a1f-4641-a683-970c5f5724e9"
      },
      "execution_count": null,
      "outputs": [
        {
          "output_type": "stream",
          "name": "stdout",
          "text": [
            "Выберите из двух вариантов\n",
            "1) Addition 2) Subtraction\n",
            "Enter 1 or 2: 2\n",
            "Вычесть 27 - 22 = 2\n",
            "Incorrect, the answer is 5\n"
          ]
        }
      ]
    }
  ]
}