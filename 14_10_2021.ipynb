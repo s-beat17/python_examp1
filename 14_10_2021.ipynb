{
  "nbformat": 4,
  "nbformat_minor": 0,
  "metadata": {
    "colab": {
      "name": "14.10.2021.ipynb",
      "provenance": [],
      "authorship_tag": "ABX9TyMlaaismZsnuR4ihys5e7vb",
      "include_colab_link": true
    },
    "kernelspec": {
      "name": "python3",
      "display_name": "Python 3"
    },
    "language_info": {
      "name": "python"
    }
  },
  "cells": [
    {
      "cell_type": "markdown",
      "metadata": {
        "id": "view-in-github",
        "colab_type": "text"
      },
      "source": [
        "<a href=\"https://colab.research.google.com/github/s-beat17/python_examp1/blob/main/14_10_2021.ipynb\" target=\"_parent\"><img src=\"https://colab.research.google.com/assets/colab-badge.svg\" alt=\"Open In Colab\"/></a>"
      ]
    },
    {
      "cell_type": "code",
      "metadata": {
        "colab": {
          "base_uri": "https://localhost:8080/"
        },
        "id": "I2qsUIY8jxlW",
        "outputId": "49451bb3-3cc5-4d81-c727-e5bfc4d1088c"
      },
      "source": [
        "for item in [1,3,4,2,5]:\n",
        "  print(item)"
      ],
      "execution_count": null,
      "outputs": [
        {
          "output_type": "stream",
          "name": "stdout",
          "text": [
            "1\n",
            "3\n",
            "4\n",
            "2\n",
            "5\n"
          ]
        }
      ]
    },
    {
      "cell_type": "code",
      "metadata": {
        "colab": {
          "base_uri": "https://localhost:8080/"
        },
        "id": "ahixipmfkNNz",
        "outputId": "3aefaa79-4854-4005-d96d-33fe071e3cb5"
      },
      "source": [
        "for item in \"123456789\":\n",
        "  if item == '4':\n",
        "    print(item)\n",
        "  else:\n",
        "    print('Not')"
      ],
      "execution_count": null,
      "outputs": [
        {
          "output_type": "stream",
          "name": "stdout",
          "text": [
            "Not\n",
            "Not\n",
            "Not\n",
            "4\n",
            "Not\n",
            "Not\n",
            "Not\n",
            "Not\n",
            "Not\n"
          ]
        }
      ]
    },
    {
      "cell_type": "code",
      "metadata": {
        "colab": {
          "base_uri": "https://localhost:8080/"
        },
        "id": "ohAh9wmbkhGn",
        "outputId": "3e9cef86-c796-4db0-f264-d7b0aebdc0a5"
      },
      "source": [
        "list(range(1, 10, 2))"
      ],
      "execution_count": null,
      "outputs": [
        {
          "output_type": "execute_result",
          "data": {
            "text/plain": [
              "[1, 3, 5, 7, 9]"
            ]
          },
          "metadata": {},
          "execution_count": 4
        }
      ]
    },
    {
      "cell_type": "code",
      "metadata": {
        "colab": {
          "base_uri": "https://localhost:8080/"
        },
        "id": "OpEojW0ilkP4",
        "outputId": "1ae5514d-548a-4128-fe62-c1caecee69ee"
      },
      "source": [
        "for item in range(10000000000000000000000000000000000000000):\n",
        "  if item == 4:\n",
        "    break\n",
        "  else:\n",
        "    print(item)"
      ],
      "execution_count": null,
      "outputs": [
        {
          "output_type": "stream",
          "name": "stdout",
          "text": [
            "0\n",
            "1\n",
            "2\n",
            "3\n"
          ]
        }
      ]
    },
    {
      "cell_type": "code",
      "metadata": {
        "id": "j_Y5hhGVmF5K"
      },
      "source": [
        "def far_to_cel(far):\n",
        "  return (far - 32) * 5/9"
      ],
      "execution_count": null,
      "outputs": []
    },
    {
      "cell_type": "code",
      "metadata": {
        "colab": {
          "base_uri": "https://localhost:8080/"
        },
        "id": "lGerfsjWo1H3",
        "outputId": "8b525e3e-9767-4fea-e031-0041326b9df1"
      },
      "source": [
        "far_to_cel(345)"
      ],
      "execution_count": null,
      "outputs": [
        {
          "output_type": "execute_result",
          "data": {
            "text/plain": [
              "173.88888888888889"
            ]
          },
          "metadata": {},
          "execution_count": 14
        }
      ]
    },
    {
      "cell_type": "code",
      "metadata": {
        "colab": {
          "base_uri": "https://localhost:8080/"
        },
        "id": "mUaaXwpDo5wx",
        "outputId": "7b20c3c5-2e5a-4540-fa5c-886025de3b93"
      },
      "source": [
        "far_to_cel(348)"
      ],
      "execution_count": null,
      "outputs": [
        {
          "output_type": "execute_result",
          "data": {
            "text/plain": [
              "175.55555555555554"
            ]
          },
          "metadata": {},
          "execution_count": 15
        }
      ]
    },
    {
      "cell_type": "code",
      "metadata": {
        "id": "Ty6VXNCbo-Pn"
      },
      "source": [
        "def func(x, y):\n",
        "  return x + y"
      ],
      "execution_count": null,
      "outputs": []
    },
    {
      "cell_type": "code",
      "metadata": {
        "colab": {
          "base_uri": "https://localhost:8080/"
        },
        "id": "lLx8JQkzphe5",
        "outputId": "e3816372-67f9-4095-fa62-13a6c7e98d66"
      },
      "source": [
        "func(5, 7)"
      ],
      "execution_count": null,
      "outputs": [
        {
          "output_type": "execute_result",
          "data": {
            "text/plain": [
              "12"
            ]
          },
          "metadata": {},
          "execution_count": 17
        }
      ]
    },
    {
      "cell_type": "code",
      "metadata": {
        "id": "dXe2n8HppjzN"
      },
      "source": [
        "func?"
      ],
      "execution_count": null,
      "outputs": []
    },
    {
      "cell_type": "code",
      "metadata": {
        "id": "2LmXHScnqsDJ"
      },
      "source": [
        "def abs2(x):\n",
        "  \"\"\"Наша функция!\"\"\"\n",
        "  return -x"
      ],
      "execution_count": null,
      "outputs": []
    },
    {
      "cell_type": "code",
      "metadata": {
        "id": "Nv9jgcnBrNT-"
      },
      "source": [
        "abs2?"
      ],
      "execution_count": null,
      "outputs": []
    },
    {
      "cell_type": "code",
      "metadata": {
        "id": "ZwjAWndjrPGV"
      },
      "source": [
        "x = 6"
      ],
      "execution_count": null,
      "outputs": []
    },
    {
      "cell_type": "code",
      "metadata": {
        "colab": {
          "base_uri": "https://localhost:8080/"
        },
        "id": "7y9k4GmmrohB",
        "outputId": "099ab91c-ec4e-421e-9609-e4357bbb7fe7"
      },
      "source": [
        "x"
      ],
      "execution_count": null,
      "outputs": [
        {
          "output_type": "execute_result",
          "data": {
            "text/plain": [
              "6"
            ]
          },
          "metadata": {},
          "execution_count": 22
        }
      ]
    },
    {
      "cell_type": "code",
      "metadata": {
        "colab": {
          "base_uri": "https://localhost:8080/"
        },
        "id": "e_mUq3acrpGH",
        "outputId": "c67bd5c4-26e4-4bd4-968c-a6ac161b1423"
      },
      "source": [
        "abs2"
      ],
      "execution_count": null,
      "outputs": [
        {
          "output_type": "execute_result",
          "data": {
            "text/plain": [
              "<function __main__.abs2>"
            ]
          },
          "metadata": {},
          "execution_count": 23
        }
      ]
    },
    {
      "cell_type": "code",
      "metadata": {
        "colab": {
          "base_uri": "https://localhost:8080/"
        },
        "id": "3txBV0yJrq9q",
        "outputId": "b0cf8e2d-3484-456d-9cee-96d8a5f4e979"
      },
      "source": [
        "abs2(5)"
      ],
      "execution_count": null,
      "outputs": [
        {
          "output_type": "execute_result",
          "data": {
            "text/plain": [
              "-5"
            ]
          },
          "metadata": {},
          "execution_count": 24
        }
      ]
    },
    {
      "cell_type": "code",
      "metadata": {
        "colab": {
          "base_uri": "https://localhost:8080/",
          "height": 35
        },
        "id": "4PG8qMyDrt_k",
        "outputId": "76e9e196-3907-4596-9829-c6d47158a66f"
      },
      "source": [
        "'hello'.upper()"
      ],
      "execution_count": null,
      "outputs": [
        {
          "output_type": "execute_result",
          "data": {
            "application/vnd.google.colaboratory.intrinsic+json": {
              "type": "string"
            },
            "text/plain": [
              "'HELLO'"
            ]
          },
          "metadata": {},
          "execution_count": 26
        }
      ]
    },
    {
      "cell_type": "code",
      "metadata": {
        "id": "yUOM60GGr6h0"
      },
      "source": [
        "abs2 = 5"
      ],
      "execution_count": null,
      "outputs": []
    },
    {
      "cell_type": "code",
      "metadata": {
        "colab": {
          "base_uri": "https://localhost:8080/"
        },
        "id": "gU39HqPYsKBB",
        "outputId": "c11487db-9b66-4366-e6f1-10a7759c0b26"
      },
      "source": [
        "abs2"
      ],
      "execution_count": null,
      "outputs": [
        {
          "output_type": "execute_result",
          "data": {
            "text/plain": [
              "5"
            ]
          },
          "metadata": {},
          "execution_count": 29
        }
      ]
    },
    {
      "cell_type": "code",
      "metadata": {
        "id": "s0tx0ycgsLL-"
      },
      "source": [
        "def f(x: int) -> int:\n",
        "  return -x"
      ],
      "execution_count": null,
      "outputs": []
    },
    {
      "cell_type": "code",
      "metadata": {
        "colab": {
          "base_uri": "https://localhost:8080/"
        },
        "id": "3QsjGLi1tTRN",
        "outputId": "4107abef-ed63-4d8d-afb0-ec21c02c2265"
      },
      "source": [
        "f(5)"
      ],
      "execution_count": null,
      "outputs": [
        {
          "output_type": "execute_result",
          "data": {
            "text/plain": [
              "-5"
            ]
          },
          "metadata": {},
          "execution_count": 31
        }
      ]
    },
    {
      "cell_type": "code",
      "metadata": {
        "colab": {
          "base_uri": "https://localhost:8080/"
        },
        "id": "WbatxzzatVTD",
        "outputId": "362b5d8a-4822-4512-9850-360b6975467e"
      },
      "source": [
        "f(4.234)"
      ],
      "execution_count": null,
      "outputs": [
        {
          "output_type": "execute_result",
          "data": {
            "text/plain": [
              "-4.234"
            ]
          },
          "metadata": {},
          "execution_count": 32
        }
      ]
    },
    {
      "cell_type": "code",
      "metadata": {
        "colab": {
          "base_uri": "https://localhost:8080/"
        },
        "id": "yYrAf9FMtXWT",
        "outputId": "f1fe920c-0c94-4592-dc56-de9ef7c9dd8c"
      },
      "source": [
        "list(range(4,10))"
      ],
      "execution_count": null,
      "outputs": [
        {
          "output_type": "execute_result",
          "data": {
            "text/plain": [
              "[4, 5, 6, 7, 8, 9]"
            ]
          },
          "metadata": {},
          "execution_count": 33
        }
      ]
    },
    {
      "cell_type": "code",
      "metadata": {
        "colab": {
          "base_uri": "https://localhost:8080/"
        },
        "id": "uoqdPeB-uR_K",
        "outputId": "6ee37443-cfea-4b27-91fa-b2fd242d266b"
      },
      "source": [
        "new_list = []\n",
        "\n",
        "for item in range(10):\n",
        "  if item % 2 == 0:\n",
        "    new_list.append(item)\n",
        "\n",
        "print(new_list)"
      ],
      "execution_count": null,
      "outputs": [
        {
          "output_type": "stream",
          "name": "stdout",
          "text": [
            "[0, 2, 4, 6, 8]\n"
          ]
        }
      ]
    },
    {
      "cell_type": "code",
      "metadata": {
        "colab": {
          "base_uri": "https://localhost:8080/"
        },
        "id": "L-j_IqU_urEC",
        "outputId": "c8805149-d7d5-4dba-dd75-f162c4f2b638"
      },
      "source": [
        "[item for item in range(10) if item % 2 == 0]"
      ],
      "execution_count": null,
      "outputs": [
        {
          "output_type": "execute_result",
          "data": {
            "text/plain": [
              "[0, 2, 4, 6, 8]"
            ]
          },
          "metadata": {},
          "execution_count": 36
        }
      ]
    },
    {
      "cell_type": "code",
      "metadata": {
        "colab": {
          "base_uri": "https://localhost:8080/"
        },
        "id": "Y_1i9F0KvDgK",
        "outputId": "16801bcc-2019-4dcd-d4c1-85222925e124"
      },
      "source": [
        "x = 5\n",
        "\n",
        "if x == 5:\n",
        "  print(5)\n",
        "else:\n",
        "  print(4) \n",
        "  "
      ],
      "execution_count": null,
      "outputs": [
        {
          "output_type": "stream",
          "name": "stdout",
          "text": [
            "5\n"
          ]
        }
      ]
    },
    {
      "cell_type": "code",
      "metadata": {
        "colab": {
          "base_uri": "https://localhost:8080/"
        },
        "id": "QQ05xxmLwI0y",
        "outputId": "19ce65d9-aa14-434b-c219-eca668b35ffc"
      },
      "source": [
        "print(5) if x == 5 else print(4)"
      ],
      "execution_count": null,
      "outputs": [
        {
          "output_type": "stream",
          "name": "stdout",
          "text": [
            "5\n"
          ]
        }
      ]
    },
    {
      "cell_type": "code",
      "metadata": {
        "colab": {
          "base_uri": "https://localhost:8080/"
        },
        "id": "QtlsUfxywO7I",
        "outputId": "bfd22e40-e8ff-41a6-835f-580c03380215"
      },
      "source": [
        "import math\n",
        "\n",
        "new_list = []\n",
        "\n",
        "for item in [3, 5, 34, 67]:\n",
        "  new_list.append(math.sqrt(item))\n",
        "\n",
        "print(new_list)\n"
      ],
      "execution_count": null,
      "outputs": [
        {
          "output_type": "stream",
          "name": "stdout",
          "text": [
            "[1.7320508075688772, 2.23606797749979, 5.830951894845301, 8.18535277187245]\n"
          ]
        }
      ]
    },
    {
      "cell_type": "code",
      "metadata": {
        "colab": {
          "base_uri": "https://localhost:8080/"
        },
        "id": "KZp7Zo9ZxSuu",
        "outputId": "9b442f09-9eb3-4dab-8668-83d081778b5d"
      },
      "source": [
        "import math\n",
        "\n",
        "[math.sqrt(item) for item in [3, 5, 34, 67]]"
      ],
      "execution_count": null,
      "outputs": [
        {
          "output_type": "execute_result",
          "data": {
            "text/plain": [
              "[1.7320508075688772, 2.23606797749979, 5.830951894845301, 8.18535277187245]"
            ]
          },
          "metadata": {},
          "execution_count": 42
        }
      ]
    },
    {
      "cell_type": "code",
      "metadata": {
        "id": "0snJxbshxaSW"
      },
      "source": [
        "def my_sqrt(x):\n",
        "  import math\n",
        "  return math.sqrt(x)"
      ],
      "execution_count": null,
      "outputs": []
    },
    {
      "cell_type": "code",
      "metadata": {
        "colab": {
          "base_uri": "https://localhost:8080/"
        },
        "id": "itA8bcPrxpFp",
        "outputId": "a00dbe22-dc89-42e9-aeae-0d4f8d1861a6"
      },
      "source": [
        "my_sqrt(6)"
      ],
      "execution_count": null,
      "outputs": [
        {
          "output_type": "execute_result",
          "data": {
            "text/plain": [
              "2.449489742783178"
            ]
          },
          "metadata": {},
          "execution_count": 45
        }
      ]
    },
    {
      "cell_type": "code",
      "metadata": {
        "colab": {
          "base_uri": "https://localhost:8080/"
        },
        "id": "AjSqRyAFx0OU",
        "outputId": "70173426-5410-472c-f585-5683d13bf8f6"
      },
      "source": [
        "list(map(my_sqrt, [3, 5, 34, 67]))"
      ],
      "execution_count": null,
      "outputs": [
        {
          "output_type": "execute_result",
          "data": {
            "text/plain": [
              "[1.7320508075688772, 2.23606797749979, 5.830951894845301, 8.18535277187245]"
            ]
          },
          "metadata": {},
          "execution_count": 47
        }
      ]
    },
    {
      "cell_type": "code",
      "metadata": {
        "id": "PNH1IhC4yBrm"
      },
      "source": [
        "def my_func(x):\n",
        "  import math\n",
        "  return pow(math.sqrt(x), 7)"
      ],
      "execution_count": null,
      "outputs": []
    },
    {
      "cell_type": "code",
      "metadata": {
        "colab": {
          "base_uri": "https://localhost:8080/"
        },
        "id": "qyeF8wT4ypvH",
        "outputId": "1d53ef45-22a7-4732-d16e-487fdfc52486"
      },
      "source": [
        "list(map(lambda x: pow(math.sqrt(x) , 7) ,[3, 5, 34, 67]))"
      ],
      "execution_count": null,
      "outputs": [
        {
          "output_type": "execute_result",
          "data": {
            "text/plain": [
              "[46.76537180435967, 279.5084971874738, 229179.73327499977, 2461851.2557266746]"
            ]
          },
          "metadata": {},
          "execution_count": 50
        }
      ]
    },
    {
      "cell_type": "code",
      "metadata": {
        "id": "_6KSAAg6ytAt"
      },
      "source": [
        ""
      ],
      "execution_count": null,
      "outputs": []
    }
  ]
}