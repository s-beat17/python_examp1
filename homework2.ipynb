{
  "nbformat": 4,
  "nbformat_minor": 0,
  "metadata": {
    "colab": {
      "name": "homework2.ipynb",
      "provenance": [],
      "collapsed_sections": [],
      "authorship_tag": "ABX9TyN4kcsWLVCyyZD5uyJsX7En",
      "include_colab_link": true
    },
    "kernelspec": {
      "name": "python3",
      "display_name": "Python 3"
    },
    "language_info": {
      "name": "python"
    }
  },
  "cells": [
    {
      "cell_type": "markdown",
      "metadata": {
        "id": "view-in-github",
        "colab_type": "text"
      },
      "source": [
        "<a href=\"https://colab.research.google.com/github/s-beat17/python_examp1/blob/main/homework2.ipynb\" target=\"_parent\"><img src=\"https://colab.research.google.com/assets/colab-badge.svg\" alt=\"Open In Colab\"/></a>"
      ]
    },
    {
      "cell_type": "code",
      "metadata": {
        "id": "jXcz5b1q3khD"
      },
      "source": [
        "for i in range(1,250,3):\n",
        "  c = i % 2 + i\n",
        "  print(c)"
      ],
      "execution_count": null,
      "outputs": []
    },
    {
      "cell_type": "code",
      "metadata": {
        "colab": {
          "base_uri": "https://localhost:8080/"
        },
        "id": "DynxmNdr5BqY",
        "outputId": "d1410f3a-cb3f-4c16-ea8c-6760b8be2f7d"
      },
      "source": [
        "lst_list = []\n",
        " \n",
        "for item in range(10, 151, 5):\n",
        "  if item % 2 == 0:\n",
        "    lst_list.append(item)\n",
        " \n",
        "print(sum(lst_list))\n",
        "\n",
        "\n",
        "sum([item for item in range(10, 151, 5) if item % 2 == 0])\n",
        "\n",
        "\n",
        "result = 0\n",
        " \n",
        "for item in range(10, 151, 5):\n",
        "  if item % 2 == 0:\n",
        "    result += item\n",
        " \n",
        "print(result)"
      ],
      "execution_count": null,
      "outputs": [
        {
          "output_type": "stream",
          "name": "stdout",
          "text": [
            "1200\n",
            "1200\n"
          ]
        }
      ]
    },
    {
      "cell_type": "code",
      "metadata": {
        "colab": {
          "base_uri": "https://localhost:8080/"
        },
        "id": "2O0h2jfW59hu",
        "outputId": "953ff073-ca91-4105-a987-a0b2b667b1c2"
      },
      "source": [
        "print(list(range(0, 5)))\n",
        "print(list(range(3, 5)))\n",
        "print(list(range(4, 20, 4)))"
      ],
      "execution_count": null,
      "outputs": [
        {
          "output_type": "stream",
          "name": "stdout",
          "text": [
            "[0, 1, 2, 3, 4]\n",
            "[3, 4]\n",
            "[4, 8, 12, 16]\n"
          ]
        }
      ]
    },
    {
      "cell_type": "code",
      "metadata": {
        "colab": {
          "base_uri": "https://localhost:8080/"
        },
        "id": "g6HSKpw9Bm46",
        "outputId": "04ecd110-3dff-44a2-f241-e2c311e4f3ee"
      },
      "source": [
        "items = list(map(int, input(\"1 2 3 4 5 6\").split()))\n",
        "value = int(input(\"6\"))\n",
        "found = items[0]\n",
        "for item in items:\n",
        "  print(found, item, abs(item - value), abs(found - value))\n",
        "  if abs(item - value) < abs(found - value):\n",
        "     found = item\n",
        "print(found)"
      ],
      "execution_count": null,
      "outputs": [
        {
          "output_type": "stream",
          "name": "stdout",
          "text": [
            "1 2 3 4 5 63\n",
            "61\n",
            "3 3 2 2\n",
            "3\n"
          ]
        }
      ]
    },
    {
      "cell_type": "code",
      "metadata": {
        "colab": {
          "base_uri": "https://localhost:8080/"
        },
        "id": "CL8XuA_6Dz_F",
        "outputId": "186aaffe-b0aa-456e-daac-a7f3cb0da842"
      },
      "source": [
        "from statistics import mean\n",
        "countries_temperature = [\n",
        "    ['Thailand', [75.2, 77, 78.8, 73.4, 68, 75.2, 77]],\n",
        "    ['Germany', [57.2, 55.4, 59, 59, 53.6]],\n",
        "    ['Russia', [35.6, 37.4, 39.2, 41, 42.8, 39.2, 35.6]],\n",
        "    ['Poland', [50, 50, 53.6, 57.2, 55.4, 55.4]]\n",
        "]\n",
        "\n",
        "def far_to_cels(far):\n",
        "  return (far-32) * 5/9\n",
        "\n",
        "\n",
        "x=0\n",
        "for i in countries_temperature:\n",
        "  inp_lst = list(map(far_to_cels, countries_temperature[x][1]))\n",
        "  list_avg = mean(inp_lst)\n",
        "  print(countries_temperature[x][0], round(list_avg, 1))\n",
        "  x+=1"
      ],
      "execution_count": null,
      "outputs": [
        {
          "output_type": "stream",
          "name": "stdout",
          "text": [
            "Thailand 23.9\n",
            "Germany 13.8\n",
            "Russia 3.7\n",
            "Poland 12.0\n"
          ]
        }
      ]
    },
    {
      "cell_type": "code",
      "metadata": {
        "id": "InwaDiwRZUNN"
      },
      "source": [
        "list_01 = [1, 1, 2, 3, 5, 8, 13, 21, 34, 55, 89, 144, 233, 377, 610, 14, 46, 273, 22, 99, 15, 1000]\n",
        "  "
      ],
      "execution_count": null,
      "outputs": []
    },
    {
      "cell_type": "code",
      "metadata": {
        "colab": {
          "base_uri": "https://localhost:8080/"
        },
        "id": "VwiDjQWIhB-E",
        "outputId": "7d9abaf2-8868-4b71-aeb0-d1209ce10e09"
      },
      "source": [
        "def pay(h, p):\n",
        "  return h * p\n",
        "\n",
        "pay(2,4)"
      ],
      "execution_count": null,
      "outputs": [
        {
          "output_type": "execute_result",
          "data": {
            "text/plain": [
              "8"
            ]
          },
          "metadata": {},
          "execution_count": 22
        }
      ]
    },
    {
      "cell_type": "code",
      "metadata": {
        "colab": {
          "base_uri": "https://localhost:8080/"
        },
        "id": "9sG67-tZiAHb",
        "outputId": "ca52654d-b178-4d69-9e44-75b0681b1bb8"
      },
      "source": [
        "def is_palindrome(s): \n",
        "    rev = ''.join(reversed(s)) \n",
        "    if (s == rev): \n",
        "        return True\n",
        "    return False\n",
        "\n",
        "s='radar'\n",
        "is_palindrome(s)"
      ],
      "execution_count": null,
      "outputs": [
        {
          "output_type": "execute_result",
          "data": {
            "text/plain": [
              "True"
            ]
          },
          "metadata": {},
          "execution_count": 24
        }
      ]
    },
    {
      "cell_type": "code",
      "metadata": {
        "colab": {
          "base_uri": "https://localhost:8080/"
        },
        "id": "Cht-GRreibvH",
        "outputId": "0a4fe753-aed0-4655-f58f-7d16332220ec"
      },
      "source": [
        "def my_abs(x):\n",
        "  if x > 0:\n",
        "    return x\n",
        "  return -x\n",
        "\n",
        "my_abs(-2)"
      ],
      "execution_count": null,
      "outputs": [
        {
          "output_type": "execute_result",
          "data": {
            "text/plain": [
              "2"
            ]
          },
          "metadata": {},
          "execution_count": 30
        }
      ]
    },
    {
      "cell_type": "code",
      "metadata": {
        "colab": {
          "base_uri": "https://localhost:8080/"
        },
        "id": "bBeEOIn9jKRh",
        "outputId": "d7e9dd9a-da65-46b2-d289-2963e17f7af1"
      },
      "source": [
        "def str_lower(s):\n",
        "  l = list(s.lower().split(' '))\n",
        "  print(l)\n",
        "\n",
        "str_lower('FFG DD DDD DDD')\n"
      ],
      "execution_count": null,
      "outputs": [
        {
          "output_type": "stream",
          "name": "stdout",
          "text": [
            "['ffg', 'dd', 'ddd', 'ddd']\n"
          ]
        }
      ]
    },
    {
      "cell_type": "code",
      "metadata": {
        "colab": {
          "base_uri": "https://localhost:8080/"
        },
        "id": "MuH6T_WZmJpl",
        "outputId": "34f79247-af0c-4753-ddfa-653482f9ebbc"
      },
      "source": [
        "a = ['a1', 'b1', 'c1', 'd1']\n",
        "b = ['a1', 'b1', 'c1', 'd1', 'g1']\n",
        " \n",
        "res = []\n",
        "for i in set(a+b):\n",
        "  y = min(a.count(i), b.count(i))\n",
        "  if y > 0:\n",
        "    res.append([i*y, i*y])\n",
        "print(res)"
      ],
      "execution_count": null,
      "outputs": [
        {
          "output_type": "stream",
          "name": "stdout",
          "text": [
            "[['d1', 'd1'], ['a1', 'a1'], ['b1', 'b1'], ['c1', 'c1']]\n"
          ]
        }
      ]
    },
    {
      "cell_type": "code",
      "metadata": {
        "colab": {
          "base_uri": "https://localhost:8080/"
        },
        "id": "mptv4oTAma0r",
        "outputId": "37dea0de-5b85-4d13-f00e-f0dec3bd615a"
      },
      "source": [
        "def str_s(s):\n",
        "  print(f'Заглавных: {sum(map(str.isupper, s))}, строчных: {sum(map(str.islower, s))}')\n",
        "\n",
        "s = \"Привет МИР\"\n",
        "str_s(s)"
      ],
      "execution_count": null,
      "outputs": [
        {
          "output_type": "stream",
          "name": "stdout",
          "text": [
            "Заглавных: 4, строчных: 5\n"
          ]
        }
      ]
    },
    {
      "cell_type": "code",
      "metadata": {
        "id": "4jeP4kzjnSJ2"
      },
      "source": [
        "def fun(s):\n",
        "  word_list = s.split('-')\n",
        "  word_list.sort()\n",
        "  res = '-'.join(word_list)\n",
        "  return print(res)\n",
        "fun('green-red-yellow-black-white')"
      ],
      "execution_count": null,
      "outputs": []
    },
    {
      "cell_type": "code",
      "metadata": {
        "colab": {
          "base_uri": "https://localhost:8080/"
        },
        "id": "K-6tuD4sqGPL",
        "outputId": "4ac6b92d-daca-4814-ed8a-e269835d3de6"
      },
      "source": [
        "string_01 = \"History is always written by the winners. hen two cultures clash, the loser is obliterated, and the winner writes the history books-books which glorify their own cause and disparage the conquered foe. As Napoleon once said, 'What is history, but a fable agreed upon?\"\n",
        "def count_s(s):\n",
        "  print(len(s.replace(\" \", \"\")))\n",
        "  print(len(s.split()))\n",
        "  print(list(filter(lambda x: x.startswith(\"w\"), s.split())))\n",
        "\n",
        "count_s(string_01)"
      ],
      "execution_count": null,
      "outputs": [
        {
          "output_type": "stream",
          "name": "stdout",
          "text": [
            "223\n",
            "44\n",
            "['written', 'winners.', 'winner', 'writes', 'which']\n"
          ]
        }
      ]
    },
    {
      "cell_type": "code",
      "metadata": {
        "colab": {
          "base_uri": "https://localhost:8080/"
        },
        "id": "8rnO6nkItFwm",
        "outputId": "105c437f-6028-47aa-df7b-f2931c2bb87b"
      },
      "source": [
        "def sort_l(sub_li):\n",
        "  l = len(sub_li)\n",
        "  for i in range(0, l):\n",
        "    for j in range(0, l-i-1):\n",
        "      if (sub_li[j][1] > sub_li[j + 1][1]):\n",
        "        tempo = sub_li[j]\n",
        "        sub_li[j]= sub_li[j + 1]\n",
        "        sub_li[j + 1]= tempo\n",
        "  return sub_li\n",
        "\n",
        "sub_li = [[1, 2, 3], [2, 1, 3], [4, 0, 1]]\n",
        "print(sort_l(sub_li))"
      ],
      "execution_count": null,
      "outputs": [
        {
          "output_type": "stream",
          "name": "stdout",
          "text": [
            "[[4, 0, 1], [2, 1, 3], [1, 2, 3]]\n"
          ]
        }
      ]
    }
  ]
}